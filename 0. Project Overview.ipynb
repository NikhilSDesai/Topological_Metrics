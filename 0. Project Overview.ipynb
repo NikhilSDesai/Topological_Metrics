{
 "cells": [
  {
   "cell_type": "markdown",
   "id": "9b0da1b1-36f1-4be2-b7cd-a85acbcf95e3",
   "metadata": {},
   "source": [
    "## Outline of Research Project"
   ]
  },
  {
   "cell_type": "markdown",
   "id": "e2077f3a-4f62-477c-9e8e-2a1f169b4e8e",
   "metadata": {},
   "source": [
    "Research Question:\n",
    "How do different categories of UK cities, based on their street network topology, exhibit variations in retail distribution and retail mix?\n",
    "\n",
    "Hypothesis:\n",
    "Different categories of cities, as defined by their street network topologies, will show distinct patterns in the distribution and diversity of retail establishments."
   ]
  },
  {
   "cell_type": "markdown",
   "id": "e8d626e6-946b-40d5-b18b-d7ed72ccb16d",
   "metadata": {
    "jp-MarkdownHeadingCollapsed": true
   },
   "source": [
    "## Old Outline of Research Project"
   ]
  },
  {
   "cell_type": "markdown",
   "id": "c684f76b-6998-47af-b08a-15fdcac2cce0",
   "metadata": {},
   "source": [
    "#### Research Questions\n",
    "    RQ1: Are Points of Interest (POIs) located in areas with expected high traffic flows? This involves percolation analysis.\n",
    "\n",
    "    RQ2: Are POIs located in different places? What is the makeup of POIs at various centrality scores and types of retail located there?\n",
    "\n",
    "    RQ3: Determine the types of retail locations at each scale. Diversity and Density Analysis\n",
    "\n",
    "    RQ4: How does occupation probability change across network scales? Compare global probability to local probability, assessing changes in occupation probability as scale varies.\n",
    "\n",
    "    RQ5: Assess the type of commercial diversity and density at each hierarchical level using a threshold.\n",
    "\n",
    "### Secondary Purposes of the Analysis\n",
    "\n",
    "#### Defining Scales\n",
    "- Scale Variation Across Systems: Different systems have different scales. Understanding how to define these scales is crucial.\n",
    "- Relationship Between Longest Shortest Path and Node Count: Examining how the longest shortest path relates to the node count in different systems.\n",
    "- Longest Shortest Path for Percolation: Using the longest shortest path to create a scale between cities.\n",
    "- Objective Metric - Distance: Distance serves as a more objective metric for defining scales.\n",
    "\n",
    "#### Research Process\n",
    "Urban Systems Definition Using Percolation:\n",
    "- Define urban systems based on distance percolation.\n",
    "- Ensure removal of secondary nodes, as irrelevant road segments can distort the analysis.\n",
    "\n",
    "Diameter of Network/Node Count Ratio:\n",
    "- Investigate if this ratio is consistent across different scales.\n",
    "\n",
    "Classification Based on Ratio:\n",
    "- Classify systems based on whether the diameter/node count ratio is applicable.\n",
    "\n",
    "Distance Between Nodes:\n",
    "- Cluster systems based on the distance between nodes.\n",
    "\n",
    "Python Package 'igraph':\n",
    "- Use this package to remove nodes in step 1.\n",
    "\n",
    "\n",
    "\n",
    "#### Additional Consideration\n",
    "- Threshold for City Networks: Removing links above 300 metres can help identify city thresholds.\n",
    "- Subset Analysis: Distance percolation may be unnecessary; a subset approach can be sufficient.\n",
    "- Outcome: One of the results will be the ranking of global vs local occupation probability.\n",
    "\n",
    "#### Tools\n",
    "- Cityseer - Gareth's Assistance: Gareth can help assess the location of POIs.\n",
    "- Ziff's Law: Consider Ziff's Law about population for further analysis.\n",
    "\n",
    "Specific Steps\n",
    "- POI Location Analysis: Are POIs located where expected?\n",
    "- City Threshold: 300 metres as the threshold for cities.\n",
    "- Exclusion of Small Cities: Cities with populations below 10,000 will be excluded.\n",
    "- Local Angular Percolation: Run angular percolation at a local scale and compare with global results.\n",
    "- Gareth's Role: Gareth will assist in mapping POIs onto the street network to determine their hierarchical state and actual retail location.\n",
    "- Comparative Analysis: Compare the locations of different cities, focusing on the density and diversity of POIs."
   ]
  },
  {
   "cell_type": "code",
   "execution_count": null,
   "id": "36de3e7d-4722-4a61-9146-ac15cc9f48da",
   "metadata": {},
   "outputs": [],
   "source": []
  },
  {
   "cell_type": "code",
   "execution_count": null,
   "id": "e4aabe88-c628-4a75-a36e-e1c3f6b9fce2",
   "metadata": {},
   "outputs": [],
   "source": []
  }
 ],
 "metadata": {
  "kernelspec": {
   "display_name": "Python 3 (ipykernel)",
   "language": "python",
   "name": "python3"
  },
  "language_info": {
   "codemirror_mode": {
    "name": "ipython",
    "version": 3
   },
   "file_extension": ".py",
   "mimetype": "text/x-python",
   "name": "python",
   "nbconvert_exporter": "python",
   "pygments_lexer": "ipython3",
   "version": "3.11.7"
  }
 },
 "nbformat": 4,
 "nbformat_minor": 5
}
