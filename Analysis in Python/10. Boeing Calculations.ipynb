{
 "cells": [
  {
   "cell_type": "markdown",
   "id": "d537fa40-323a-4385-b8c6-ace0dd2c8f91",
   "metadata": {},
   "source": [
    "# 10. Calculation of Topological Network Metrics\n",
    "One of the crucial steps of our analysis is clustering our cities into categories. In order to do so we leverage research from Geoff Boeing. In his seminal paper, Boeing identifies several key characteristics which help to distinguish urban environments based on characteristics. Since this study is interested in purely topological elements we leverage only the topological metric from Boeing's research.\n",
    "\n",
    "This study is interested in comparing morphology to retail activity, as a result we cluster cities"
   ]
  },
  {
   "cell_type": "code",
   "execution_count": 9,
   "id": "af12489c-f467-4bd7-a8ad-747e072eaf01",
   "metadata": {},
   "outputs": [],
   "source": [
    "# load relevant packages for analysis\n",
    "import cityseer as cs\n",
    "import contextily as ctx\n",
    "import dask.dataframe as dd\n",
    "import dask_geopandas as dg\n",
    "import fiona\n",
    "import graph_tool.all as gt\n",
    "import geopandas as gpd\n",
    "import igraph\n",
    "import matplotlib.pyplot as plt\n",
    "import matplotlib.colors as mcolors\n",
    "from matplotlib.cm import ScalarMappable\n",
    "from matplotlib.collections import LineCollection\n",
    "import numpy as np\n",
    "import networkx as nx\n",
    "import osmnx as ox\n",
    "import pandas as pd\n",
    "import pyogrio\n",
    "import seaborn as sns\n",
    "from scipy.stats import entropy\n",
    "from sklearn.cluster import AgglomerativeClustering\n",
    "from sklearn.cluster import DBSCAN\n",
    "from sklearn.cluster import KMeans\n",
    "from sklearn.metrics import silhouette_score, davies_bouldin_score, calinski_harabasz_score\n",
    "from sklearn.preprocessing import StandardScaler\n",
    "from shapely.geometry import Point, MultiPoint\n",
    "from shapely.geometry import LineString, MultiLineString\n",
    "from shapely.ops import nearest_points\n",
    "import shapely.wkt\n",
    "from shapely.wkt import loads\n",
    "import statsmodels.api as sm\n",
    "import sys\n",
    "from xml import etree"
   ]
  },
  {
   "cell_type": "code",
   "execution_count": 11,
   "id": "e502ff1e-348d-4c70-be5c-14cde7e974d3",
   "metadata": {},
   "outputs": [],
   "source": [
    "# G = nx.read_graphml('Data/london.graph')"
   ]
  },
  {
   "cell_type": "code",
   "execution_count": 16,
   "id": "377e9dfd-ca62-4545-8474-b17cb510d170",
   "metadata": {},
   "outputs": [],
   "source": [
    "G = nx.read_graphml(\"Data/G300_betw.graphml\")"
   ]
  },
  {
   "cell_type": "code",
   "execution_count": 17,
   "id": "82cf0796-97ab-456b-80a7-a77121fb3728",
   "metadata": {},
   "outputs": [
    {
     "name": "stdout",
     "output_type": "stream",
     "text": [
      "Number of nodes: 3161041\n",
      "Number of edges: 3448220\n"
     ]
    }
   ],
   "source": [
    "print(f\"Number of nodes: {G.number_of_nodes()}\")\n",
    "print(f\"Number of edges: {G.number_of_edges()}\")"
   ]
  },
  {
   "cell_type": "code",
   "execution_count": 18,
   "id": "8890d0bc-aae7-49b1-bbc6-ac0015d0ab80",
   "metadata": {},
   "outputs": [
    {
     "data": {
      "text/plain": [
       "('CC9BEF56-6F33-47ED-AF08-BB8A6C655A1D',\n",
       " {'pos': '(187422.39, 887423.74)',\n",
       "  'form_of_road_node': 'junction',\n",
       "  'geometry': 'POINT (187422.39 887423.74)',\n",
       "  'angle': 126.44988586701946,\n",
       "  'occupation_probability': 0.7024993659278859})"
      ]
     },
     "execution_count": 18,
     "metadata": {},
     "output_type": "execute_result"
    }
   ],
   "source": [
    "list (G.nodes(data=True))[0]"
   ]
  },
  {
   "cell_type": "code",
   "execution_count": 19,
   "id": "f28979b3-a7f7-4f17-b86e-8640520b50f6",
   "metadata": {},
   "outputs": [
    {
     "data": {
      "text/plain": [
       "('CC9BEF56-6F33-47ED-AF08-BB8A6C655A1D',\n",
       " 'D3B5B123-54B7-467E-8C60-BE2383A3624B',\n",
       " {'length': 179.0,\n",
       "  'road_classification': 'Unknown',\n",
       "  'road_function': 'Restricted Local Access Road',\n",
       "  'form_of_way': 'Single Carriageway',\n",
       "  'primary_route': False,\n",
       "  'trunk_road': False,\n",
       "  'geometry': 'LINESTRING (187422.39 887423.74, 187436.12 887429.24, 187434.34 887455.56, 187439.76 887465.66, 187472.56 887482.08, 187552.42 887522.05)',\n",
       "  'occupation_probability': 0.00927614779300641})"
      ]
     },
     "execution_count": 19,
     "metadata": {},
     "output_type": "execute_result"
    }
   ],
   "source": [
    "list(G.edges(data=True))[0]"
   ]
  },
  {
   "cell_type": "code",
   "execution_count": 20,
   "id": "a5ceb28e-40a9-4ddc-ae87-9620ce7a3b49",
   "metadata": {},
   "outputs": [
    {
     "name": "stdout",
     "output_type": "stream",
     "text": [
      "Number of nodes added to Graph-Tool graph: 3161041\n",
      "Number of nodes in vertex_map: 3161041\n",
      "Node count processed: 3161041\n"
     ]
    }
   ],
   "source": [
    "# Placeholder for your actual NetworkX graph\n",
    "G_nx = G  # Your actual NetworkX graph\n",
    "G_gt = gt.Graph(directed=False)\n",
    "\n",
    "# Define vertex properties\n",
    "pos = G_gt.new_vertex_property(\"vector<double>\")\n",
    "form_of_road_node = G_gt.new_vertex_property(\"string\")\n",
    "angle = G_gt.new_vertex_property(\"double\")\n",
    "occupation_probability_node = G_gt.new_vertex_property(\"double\")\n",
    "geometry = G_gt.new_vertex_property(\"string\")\n",
    "\n",
    "vertex_map = {}\n",
    "node_count = 0\n",
    "\n",
    "# Add a vertex property for original IDs\n",
    "original_id = G_gt.new_vertex_property(\"string\")\n",
    "degree = G_gt.new_vertex_property(\"int\")\n",
    "\n",
    "# Add nodes to Graph-Tool graph\n",
    "for node, data in G_nx.nodes(data=True):\n",
    "    v = G_gt.add_vertex()\n",
    "    vertex_map[node] = v\n",
    "    pos[v] = list(map(float, data['pos'].strip('()').split(',')))\n",
    "    form_of_road_node[v] = data.get('form_of_road_node', '')\n",
    "    angle[v] = data.get('angle', 0.0)\n",
    "    occupation_probability_node[v] = data.get('occupation_probability', 0.0)\n",
    "    geometry[v] = data.get('geometry', '')\n",
    "    original_id[v] = node  # Use the original node ID\n",
    "    degree[v] = G_nx.degree(node)  # Assign degree of node\n",
    "    node_count += 1\n",
    "\n",
    "# Add the original_id property to the graph\n",
    "G_gt.vertex_properties['original_id'] = original_id\n",
    "G_gt.vertex_properties['pos'] = pos\n",
    "G_gt.vertex_properties['form_of_road_node'] = form_of_road_node\n",
    "G_gt.vertex_properties['angle'] = angle\n",
    "G_gt.vertex_properties['occupation_probability_node'] = occupation_probability_node\n",
    "G_gt.vertex_properties['geometry'] = geometry\n",
    "G_gt.vertex_properties['degree'] = degree\n",
    "\n",
    "print(f\"Number of nodes added to Graph-Tool graph: {G_gt.num_vertices()}\")\n",
    "print(f\"Number of nodes in vertex_map: {len(vertex_map)}\")\n",
    "print(f\"Node count processed: {node_count}\")"
   ]
  },
  {
   "cell_type": "code",
   "execution_count": 21,
   "id": "e99d0392-ec61-49c6-a44f-fc3b8c18a69b",
   "metadata": {},
   "outputs": [],
   "source": [
    "# Define edge properties\n",
    "edge_length = G_gt.new_edge_property(\"double\")\n",
    "road_classification = G_gt.new_edge_property(\"string\")\n",
    "road_function = G_gt.new_edge_property(\"string\")\n",
    "form_of_way = G_gt.new_edge_property(\"string\")\n",
    "primary_route = G_gt.new_edge_property(\"bool\")\n",
    "trunk_road = G_gt.new_edge_property(\"bool\")\n",
    "edge_geometry = G_gt.new_edge_property(\"object\")\n",
    "occupation_probability_edge = G_gt.new_edge_property(\"double\")\n",
    "original_edge_id = G_gt.new_edge_property(\"string\")\n",
    "\n",
    "# Add edges to Graph-Tool graph\n",
    "for u, v, data in G_nx.edges(data=True):\n",
    "    e = G_gt.add_edge(vertex_map[u], vertex_map[v])\n",
    "    edge_length[e] = data['length']\n",
    "    road_classification[e] = data['road_classification']\n",
    "    road_function[e] = data['road_function']\n",
    "    form_of_way[e] = data['form_of_way']\n",
    "    primary_route[e] = data['primary_route']\n",
    "    trunk_road[e] = data['trunk_road']\n",
    "    edge_geometry[e] = loads(data['geometry'])\n",
    "    occupation_probability_edge[e] = data['occupation_probability']\n",
    "    original_edge_id[e] = f\"{u}-{v}\"\n",
    "\n",
    "# Add edge properties to the graph\n",
    "G_gt.edge_properties['length'] = edge_length\n",
    "G_gt.edge_properties['road_classification'] = road_classification\n",
    "G_gt.edge_properties['road_function'] = road_function\n",
    "G_gt.edge_properties['form_of_way'] = form_of_way\n",
    "G_gt.edge_properties['primary_route'] = primary_route\n",
    "G_gt.edge_properties['trunk_road'] = trunk_road\n",
    "G_gt.edge_properties['geometry'] = edge_geometry\n",
    "G_gt.edge_properties['occupation_probability'] = occupation_probability_edge\n",
    "G_gt.edge_properties['original_edge_id'] = original_edge_id"
   ]
  },
  {
   "cell_type": "code",
   "execution_count": 22,
   "id": "19c06b31-5683-4c63-8cfa-0342394ebbbc",
   "metadata": {},
   "outputs": [
    {
     "name": "stdout",
     "output_type": "stream",
     "text": [
      "Topological metrics calculated and added to the graph.\n"
     ]
    }
   ],
   "source": [
    "# Calculate Betweenness Centrality\n",
    "vertex_betweenness, edge_betweenness = gt.betweenness(G_gt)\n",
    "G_gt.vertex_properties['betweenness'] = vertex_betweenness\n",
    "G_gt.edge_properties['betweenness'] = edge_betweenness\n",
    "\n",
    "# Calculate PageRank\n",
    "pagerank = gt.pagerank(G_gt)\n",
    "G_gt.vertex_properties['pagerank'] = pagerank\n",
    "\n",
    "# Calculate Self-loop Proportion\n",
    "num_self_loops = sum(1 for e in G_gt.edges() if e.source() == e.target())\n",
    "self_loop_proportion = num_self_loops / G_gt.num_edges()\n",
    "G_gt.graph_properties['self_loop_proportion'] = G_gt.new_graph_property(\"double\")\n",
    "G_gt.graph_properties['self_loop_proportion'] = self_loop_proportion\n",
    "\n",
    "print(\"Topological metrics calculated and added to the graph.\")"
   ]
  },
  {
   "cell_type": "code",
   "execution_count": 34,
   "id": "43015fec-e720-4ad8-93de-3354e28e6389",
   "metadata": {},
   "outputs": [],
   "source": [
    "def convert_gt_to_nx(G_gt):\n",
    "    # Create a new NetworkX graph (directed or undirected)\n",
    "    G_nx = nx.DiGraph() if G_gt.is_directed() else nx.Graph()\n",
    "\n",
    "    # Check if 'original_id' property exists\n",
    "    original_id_exists = 'original_id' in G_gt.vertex_properties\n",
    "\n",
    "    # Transfer node properties\n",
    "    for v in G_gt.vertices():\n",
    "        node_data = {}\n",
    "        for prop_name, prop in G_gt.vertex_properties.items():\n",
    "            value = prop[v]\n",
    "            if isinstance(value, gt.libgraph_tool_core.Vector_double):\n",
    "                value = float(value[0]) if len(value) > 0 else None\n",
    "            node_data[prop_name] = value\n",
    "        # Use the original ID if it exists, otherwise use the default index\n",
    "        if original_id_exists:\n",
    "            original_id = G_gt.vertex_properties['original_id'][v]\n",
    "        else:\n",
    "            original_id = int(v)\n",
    "        G_nx.add_node(original_id, **node_data)\n",
    "\n",
    "    # Transfer edge properties\n",
    "    for e in G_gt.edges():\n",
    "        edge_data = {}\n",
    "        for prop_name, prop in G_gt.edge_properties.items():\n",
    "            value = prop[e]\n",
    "            if isinstance(value, gt.libgraph_tool_core.Vector_double):\n",
    "                value = float(value[0]) if len(value) > 0 else None\n",
    "            elif isinstance(value, LineString):\n",
    "                value = value.wkt\n",
    "            edge_data[prop_name] = value\n",
    "        # Preserve the original edge source and target IDs if they exist\n",
    "        if original_id_exists:\n",
    "            original_source = G_gt.vertex_properties['original_id'][e.source()]\n",
    "            original_target = G_gt.vertex_properties['original_id'][e.target()]\n",
    "        else:\n",
    "            original_source = int(e.source())\n",
    "            original_target = int(e.target())\n",
    "        G_nx.add_edge(original_source, original_target, **edge_data)\n",
    "\n",
    "    return G_nx\n",
    "\n",
    "# Example usage\n",
    "G_nx_converted = convert_gt_to_nx(G_gt)"
   ]
  },
  {
   "cell_type": "code",
   "execution_count": 35,
   "id": "274bf795-a2ba-4ae9-9c77-cfb06337e224",
   "metadata": {},
   "outputs": [
    {
     "name": "stdout",
     "output_type": "stream",
     "text": [
      "Number of nodes in converted NetworkX graph: 3161041\n",
      "Number of edges in converted NetworkX graph: 3448220\n",
      "Example Node in NetworkX graph:\n",
      "('CC9BEF56-6F33-47ED-AF08-BB8A6C655A1D', {'original_id': 'CC9BEF56-6F33-47ED-AF08-BB8A6C655A1D', 'pos': 187422.39, 'form_of_road_node': 'junction', 'angle': 126.44988586701946, 'occupation_probability_node': 0.7024993659278859, 'geometry': 'POINT (187422.39 887423.74)', 'degree': 2, 'betweenness': 2.0015670828009153e-13, 'pagerank': 4.6169985436708254e-07})\n",
      "Example Edge in NetworkX graph:\n",
      "('CC9BEF56-6F33-47ED-AF08-BB8A6C655A1D', 'D3B5B123-54B7-467E-8C60-BE2383A3624B', {'length': 179.0, 'road_classification': 'Unknown', 'road_function': 'Restricted Local Access Road', 'form_of_way': 'Single Carriageway', 'primary_route': 0, 'trunk_road': 0, 'geometry': 'LINESTRING (187422.39 887423.74, 187436.12 887429.24, 187434.34 887455.56, 187439.76 887465.66, 187472.56 887482.08, 187552.42 887522.05)', 'occupation_probability': 0.00927614779300641, 'original_edge_id': 'CC9BEF56-6F33-47ED-AF08-BB8A6C655A1D-D3B5B123-54B7-467E-8C60-BE2383A3624B', 'betweenness': 4.0031316328069916e-13})\n"
     ]
    }
   ],
   "source": [
    "# Verify the conversion by checking some properties\n",
    "print(f\"Number of nodes in converted NetworkX graph: {G_nx_converted.number_of_nodes()}\")\n",
    "print(f\"Number of edges in converted NetworkX graph: {G_nx_converted.number_of_edges()}\")\n",
    "\n",
    "# Print an example node and its properties\n",
    "if G_nx_converted.number_of_nodes() > 0:\n",
    "    example_node = list(G_nx_converted.nodes(data=True))[0]\n",
    "    print(\"Example Node in NetworkX graph:\")\n",
    "    print(example_node)\n",
    "\n",
    "# Print an example edge and its properties\n",
    "if G_nx_converted.number_of_edges() > 0:\n",
    "    example_edge = list(G_nx_converted.edges(data=True))[0]\n",
    "    print(\"Example Edge in NetworkX graph:\")\n",
    "    print(example_edge)"
   ]
  },
  {
   "cell_type": "code",
   "execution_count": 36,
   "id": "8a8215f7-d20b-4f73-a5eb-076577634ec6",
   "metadata": {},
   "outputs": [],
   "source": [
    "# Ensure scalar attributes while preserving geometry and original names\n",
    "def ensure_scalar_attributes_with_geometry_and_names(G_nx):\n",
    "    for node, data in G_nx.nodes(data=True):\n",
    "        for key, value in data.items():\n",
    "            if isinstance(value, (list, np.ndarray)) and key != 'geometry':\n",
    "                G_nx.nodes[node][key] = value[0] if len(value) > 0 else None\n",
    "            elif isinstance(value, gt.libgraph_tool_core.Vector_double):\n",
    "                G_nx.nodes[node][key] = float(value[0]) if len(value) > 0 else None\n",
    "\n",
    "    for u, v, data in G_nx.edges(data=True):\n",
    "        for key, value in data.items():\n",
    "            if isinstance(value, (list, np.ndarray)) and key != 'geometry':\n",
    "                G_nx.edges[u, v][key] = value[0] if len(value) > 0 else None\n",
    "            elif isinstance(value, gt.libgraph_tool_core.Vector_double):\n",
    "                G_nx.edges[u, v][key] = float(value[0]) if len(value) > 0 else None\n",
    "            elif isinstance(value, LineString):\n",
    "                G_nx.edges[u, v][key] = value.wkt\n",
    "\n",
    "    for key, value in G_nx.graph.items():\n",
    "        if isinstance(value, (list, np.ndarray)):\n",
    "            G_nx.graph[key] = value[0] if len(value) > 0 else None\n",
    "        elif isinstance(value, gt.libgraph_tool_core.Vector_double):\n",
    "            G_nx.graph[key] = float(value[0]) if len(value) > 0 else None\n",
    "\n",
    "# Ensure scalar attributes\n",
    "ensure_scalar_attributes_with_geometry_and_names(G_nx_converted)\n",
    "\n",
    "# Save the NetworkX graph as a GraphML file\n",
    "nx.write_graphml(G_nx_converted, \"Data/G_Globalattributes.graphml\")"
   ]
  },
  {
   "cell_type": "code",
   "execution_count": 37,
   "id": "e548563b-0145-4ba9-a980-94d2c66e60bf",
   "metadata": {},
   "outputs": [
    {
     "name": "stdout",
     "output_type": "stream",
     "text": [
      "Number of nodes: 3161041\n",
      "Number of edges: 3448220\n"
     ]
    }
   ],
   "source": [
    "print(f\"Number of nodes: {G_nx_converted.number_of_nodes()}\")\n",
    "print(f\"Number of edges: {G_nx_converted.number_of_edges()}\")"
   ]
  },
  {
   "cell_type": "code",
   "execution_count": 38,
   "id": "4dc30f92-c0cc-4f37-93aa-6ccdaf9befef",
   "metadata": {},
   "outputs": [
    {
     "data": {
      "text/plain": [
       "('34788D06-0F04-4460-9F3C-AC7D297905B0',\n",
       " {'original_id': '34788D06-0F04-4460-9F3C-AC7D297905B0',\n",
       "  'pos': 180425.0,\n",
       "  'form_of_road_node': 'junction',\n",
       "  'angle': 176.22704866155834,\n",
       "  'occupation_probability_node': 0.9790391592308797,\n",
       "  'geometry': 'POINT (180425 828365)',\n",
       "  'degree': 3,\n",
       "  'betweenness': 1.1008618955405034e-11,\n",
       "  'pagerank': 4.777984313010437e-07})"
      ]
     },
     "execution_count": 38,
     "metadata": {},
     "output_type": "execute_result"
    }
   ],
   "source": [
    "list (G_nx_converted.nodes(data=True))[10]"
   ]
  },
  {
   "cell_type": "code",
   "execution_count": 39,
   "id": "7d370003-71d1-4f93-aaf3-3292bf5b329e",
   "metadata": {},
   "outputs": [
    {
     "data": {
      "text/plain": [
       "('CC9BEF56-6F33-47ED-AF08-BB8A6C655A1D',\n",
       " 'D3B5B123-54B7-467E-8C60-BE2383A3624B',\n",
       " {'length': 179.0,\n",
       "  'road_classification': 'Unknown',\n",
       "  'road_function': 'Restricted Local Access Road',\n",
       "  'form_of_way': 'Single Carriageway',\n",
       "  'primary_route': 0,\n",
       "  'trunk_road': 0,\n",
       "  'geometry': 'LINESTRING (187422.39 887423.74, 187436.12 887429.24, 187434.34 887455.56, 187439.76 887465.66, 187472.56 887482.08, 187552.42 887522.05)',\n",
       "  'occupation_probability': 0.00927614779300641,\n",
       "  'original_edge_id': 'CC9BEF56-6F33-47ED-AF08-BB8A6C655A1D-D3B5B123-54B7-467E-8C60-BE2383A3624B',\n",
       "  'betweenness': 4.0031316328069916e-13})"
      ]
     },
     "execution_count": 39,
     "metadata": {},
     "output_type": "execute_result"
    }
   ],
   "source": [
    "list (G_nx_converted.edges(data=True))[0]"
   ]
  },
  {
   "cell_type": "code",
   "execution_count": null,
   "id": "48aee245-6ffb-458c-9a9e-6850d871bef5",
   "metadata": {},
   "outputs": [],
   "source": []
  }
 ],
 "metadata": {
  "kernelspec": {
   "display_name": "urbsim",
   "language": "python",
   "name": "urbsim"
  },
  "language_info": {
   "codemirror_mode": {
    "name": "ipython",
    "version": 3
   },
   "file_extension": ".py",
   "mimetype": "text/x-python",
   "name": "python",
   "nbconvert_exporter": "python",
   "pygments_lexer": "ipython3",
   "version": "3.11.7"
  }
 },
 "nbformat": 4,
 "nbformat_minor": 5
}
